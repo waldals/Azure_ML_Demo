{
 "cells": [
  {
   "cell_type": "markdown",
   "id": "25765c03",
   "metadata": {},
   "source": [
    "# Azure ML Studio Demo"
   ]
  },
  {
   "cell_type": "markdown",
   "id": "71a049ae",
   "metadata": {},
   "source": [
    "How do we recreate the Avocados notebook in the Studio as a no-code approach?"
   ]
  },
  {
   "cell_type": "markdown",
   "id": "ae141534",
   "metadata": {
    "ExecuteTime": {
     "end_time": "2022-01-20T23:01:00.112680Z",
     "start_time": "2022-01-20T23:01:00.098740Z"
    }
   },
   "source": [
    "## Set up the environment"
   ]
  },
  {
   "cell_type": "code",
   "execution_count": null,
   "id": "4fbf67bd",
   "metadata": {},
   "outputs": [],
   "source": []
  },
  {
   "cell_type": "markdown",
   "id": "030ce3b1",
   "metadata": {
    "ExecuteTime": {
     "end_time": "2022-01-20T23:01:09.091874Z",
     "start_time": "2022-01-20T23:01:09.085890Z"
    }
   },
   "source": [
    "## Set up the pipeline"
   ]
  },
  {
   "cell_type": "code",
   "execution_count": null,
   "id": "0b0f618e",
   "metadata": {},
   "outputs": [],
   "source": []
  },
  {
   "cell_type": "markdown",
   "id": "842b6594",
   "metadata": {
    "ExecuteTime": {
     "end_time": "2022-01-20T23:01:12.900876Z",
     "start_time": "2022-01-20T23:01:12.897886Z"
    }
   },
   "source": [
    "## Train the model"
   ]
  },
  {
   "cell_type": "code",
   "execution_count": null,
   "id": "7d6ca501",
   "metadata": {},
   "outputs": [],
   "source": []
  },
  {
   "cell_type": "markdown",
   "id": "c016e06d",
   "metadata": {
    "ExecuteTime": {
     "end_time": "2022-01-20T23:01:18.578360Z",
     "start_time": "2022-01-20T23:01:18.562381Z"
    }
   },
   "source": [
    "## Run the test data"
   ]
  },
  {
   "cell_type": "code",
   "execution_count": null,
   "id": "81665813",
   "metadata": {},
   "outputs": [],
   "source": []
  }
 ],
 "metadata": {
  "kernelspec": {
   "display_name": "Python 3",
   "language": "python",
   "name": "python3"
  },
  "language_info": {
   "codemirror_mode": {
    "name": "ipython",
    "version": 3
   },
   "file_extension": ".py",
   "mimetype": "text/x-python",
   "name": "python",
   "nbconvert_exporter": "python",
   "pygments_lexer": "ipython3",
   "version": "3.8.8"
  },
  "toc": {
   "base_numbering": 1,
   "nav_menu": {},
   "number_sections": false,
   "sideBar": true,
   "skip_h1_title": false,
   "title_cell": "Table of Contents",
   "title_sidebar": "Contents",
   "toc_cell": false,
   "toc_position": {},
   "toc_section_display": true,
   "toc_window_display": false
  }
 },
 "nbformat": 4,
 "nbformat_minor": 5
}
